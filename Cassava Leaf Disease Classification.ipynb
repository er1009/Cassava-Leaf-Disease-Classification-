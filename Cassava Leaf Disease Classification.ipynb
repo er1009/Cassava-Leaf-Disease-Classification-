{
  "metadata": {
    "kernelspec": {
      "language": "python",
      "display_name": "Python 3",
      "name": "python3"
    },
    "language_info": {
      "name": "python",
      "version": "3.7.12",
      "mimetype": "text/x-python",
      "codemirror_mode": {
        "name": "ipython",
        "version": 3
      },
      "pygments_lexer": "ipython3",
      "nbconvert_exporter": "python",
      "file_extension": ".py"
    },
    "colab": {
      "name": "Cassava Leaf Disease Classification .ipynb",
      "provenance": []
    }
  },
  "nbformat_minor": 0,
  "nbformat": 4,
  "cells": [
    {
      "cell_type": "code",
      "source": [
        "from sklearn.preprocessing import MultiLabelBinarizer\n",
        "from sklearn.model_selection import StratifiedKFold\n",
        "from tqdm.notebook import tqdm\n",
        "import matplotlib.pyplot as plt\n",
        "import pandas as pd\n",
        "import numpy as np\n",
        "import os\n",
        "import seaborn as sns\n",
        "import plotly.graph_objects as go\n",
        "from sklearn.model_selection import StratifiedKFold\n",
        "\n",
        "from skimage.io import imread\n",
        "import matplotlib.pyplot as plt\n",
        "import cv2\n",
        "import random\n",
        "import torch\n",
        "from torch.optim import Adam\n",
        "from torch.utils.data import DataLoader, Dataset\n",
        "from torchvision.transforms import ToTensor, Normalize, Compose\n",
        "\n",
        "from tqdm import tqdm\n",
        "from pathlib import Path\n",
        "\n",
        "import torch.nn as nn\n",
        "import torch.nn.functional as F\n",
        "import torchvision\n",
        "# import keras\n",
        "%matplotlib inline\n",
        "from PIL import Image\n",
        "from sklearn.model_selection import train_test_split\n",
        "from skimage.morphology import binary_opening, disk, label\n",
        "\n",
        "import glob\n",
        "from torchvision import datasets, models, transforms\n",
        "from cv2 import imread\n",
        "from sklearn.metrics import confusion_matrix, precision_recall_fscore_support, precision_score, recall_score, f1_score\n",
        "import torch.optim as optim\n",
        "import math \n",
        "import json\n",
        "\n",
        "import torchmetrics \n",
        "import albumentations as A\n",
        "from albumentations.pytorch import ToTensorV2\n",
        "import itertools"
      ],
      "metadata": {
        "_cell_guid": "b1076dfc-b9ad-4769-8c92-a6c4dae69d19",
        "_uuid": "8f2839f25d086af736a60e9eeb907d3b93b6e0e5",
        "execution": {
          "iopub.status.busy": "2022-01-04T15:55:39.196747Z",
          "iopub.execute_input": "2022-01-04T15:55:39.197Z",
          "iopub.status.idle": "2022-01-04T15:55:39.212921Z",
          "shell.execute_reply.started": "2022-01-04T15:55:39.196969Z",
          "shell.execute_reply": "2022-01-04T15:55:39.212Z"
        },
        "trusted": true,
        "id": "hNybW11BFi2G"
      },
      "execution_count": null,
      "outputs": []
    },
    {
      "cell_type": "code",
      "source": [
        "pip install https://github.com/ufoym/imbalanced-dataset-sampler/archive/master.zip"
      ],
      "metadata": {
        "execution": {
          "iopub.status.busy": "2022-01-04T15:55:39.214523Z",
          "iopub.execute_input": "2022-01-04T15:55:39.215296Z",
          "iopub.status.idle": "2022-01-04T15:55:49.233188Z",
          "shell.execute_reply.started": "2022-01-04T15:55:39.215214Z",
          "shell.execute_reply": "2022-01-04T15:55:49.232269Z"
        },
        "trusted": true,
        "id": "qa9ZqnvfFi2L"
      },
      "execution_count": null,
      "outputs": []
    },
    {
      "cell_type": "code",
      "source": [
        "from torchsampler import ImbalancedDatasetSampler"
      ],
      "metadata": {
        "execution": {
          "iopub.status.busy": "2022-01-04T15:55:49.235107Z",
          "iopub.execute_input": "2022-01-04T15:55:49.235458Z",
          "iopub.status.idle": "2022-01-04T15:55:49.240815Z",
          "shell.execute_reply.started": "2022-01-04T15:55:49.23538Z",
          "shell.execute_reply": "2022-01-04T15:55:49.238735Z"
        },
        "trusted": true,
        "id": "5fY79CSQFi2M"
      },
      "execution_count": null,
      "outputs": []
    },
    {
      "cell_type": "code",
      "source": [
        "import wandb\n",
        "\n",
        "! wandb login 52b3b279a9d634741e39bd8541fece124dfb8b88"
      ],
      "metadata": {
        "execution": {
          "iopub.status.busy": "2022-01-04T15:55:49.242227Z",
          "iopub.execute_input": "2022-01-04T15:55:49.242633Z",
          "iopub.status.idle": "2022-01-04T15:55:51.75296Z",
          "shell.execute_reply.started": "2022-01-04T15:55:49.242594Z",
          "shell.execute_reply": "2022-01-04T15:55:51.752144Z"
        },
        "trusted": true,
        "id": "PcvffBZTFi2M"
      },
      "execution_count": null,
      "outputs": []
    },
    {
      "cell_type": "code",
      "source": [
        "import warnings\n",
        "warnings.filterwarnings('ignore')"
      ],
      "metadata": {
        "execution": {
          "iopub.status.busy": "2022-01-04T15:55:51.756699Z",
          "iopub.execute_input": "2022-01-04T15:55:51.756921Z",
          "iopub.status.idle": "2022-01-04T15:55:51.761289Z",
          "shell.execute_reply.started": "2022-01-04T15:55:51.756892Z",
          "shell.execute_reply": "2022-01-04T15:55:51.760175Z"
        },
        "trusted": true,
        "id": "C7IqjlvsFi2N"
      },
      "execution_count": null,
      "outputs": []
    },
    {
      "cell_type": "code",
      "source": [
        "BASE_DIR = \"../input/cassava-leaf-disease-classification/\"\n",
        "dataset_path = Path('../input/cassava-leaf-disease-classification')\n",
        "path_df = pd.read_csv(dataset_path/'train.csv')\n",
        "\n",
        "# BASE_DIR = \"/home/linuxgpu/tsclient/97252/Desktop/Cassava_dataset\"\n",
        "# dataset_path = Path('/home/linuxgpu/tsclient/97252/Desktop/Cassava_dataset')\n",
        "# path_df = pd.read_csv(dataset_path/'train.csv')"
      ],
      "metadata": {
        "execution": {
          "iopub.status.busy": "2022-01-04T15:55:51.762606Z",
          "iopub.execute_input": "2022-01-04T15:55:51.763027Z",
          "iopub.status.idle": "2022-01-04T15:55:51.791312Z",
          "shell.execute_reply.started": "2022-01-04T15:55:51.76299Z",
          "shell.execute_reply": "2022-01-04T15:55:51.79063Z"
        },
        "trusted": true,
        "id": "3_6-a9p6Fi2N"
      },
      "execution_count": null,
      "outputs": []
    },
    {
      "cell_type": "markdown",
      "source": [
        "This competition will challenge you to distinguish between several diseases that cause material harm to the food supply of many African countries. In some cases the main remedy is to burn the infected plants to prevent further spread, which can make a rapid automated turnaround quite useful to the farmers.\n",
        "\n",
        "In this competition we have 5 classes: 4 diseases and 1 healthy\n",
        "We can find the mapping between the class number and its name in the file label_num_to_disease_map.json"
      ],
      "metadata": {
        "id": "jzHAe4wuFi2O"
      }
    },
    {
      "cell_type": "code",
      "source": [
        "with open(os.path.join(BASE_DIR, \"label_num_to_disease_map.json\")) as file:\n",
        "    map_classes = json.loads(file.read())\n",
        "    map_classes = {int(k) : v for k, v in map_classes.items()}\n",
        "    \n",
        "print(json.dumps(map_classes, indent=4))"
      ],
      "metadata": {
        "execution": {
          "iopub.status.busy": "2022-01-04T15:55:51.792601Z",
          "iopub.execute_input": "2022-01-04T15:55:51.79284Z",
          "iopub.status.idle": "2022-01-04T15:55:51.802242Z",
          "shell.execute_reply.started": "2022-01-04T15:55:51.792808Z",
          "shell.execute_reply": "2022-01-04T15:55:51.801465Z"
        },
        "trusted": true,
        "id": "N7aN-7cfFi2Q"
      },
      "execution_count": null,
      "outputs": []
    },
    {
      "cell_type": "code",
      "source": [
        "input_files = os.listdir(os.path.join(BASE_DIR, \"train_images\"))\n",
        "print(f\"Number of train images: {len(input_files)}\")"
      ],
      "metadata": {
        "execution": {
          "iopub.status.busy": "2022-01-04T15:55:51.803693Z",
          "iopub.execute_input": "2022-01-04T15:55:51.803893Z",
          "iopub.status.idle": "2022-01-04T15:55:51.822647Z",
          "shell.execute_reply.started": "2022-01-04T15:55:51.803867Z",
          "shell.execute_reply": "2022-01-04T15:55:51.821938Z"
        },
        "trusted": true,
        "id": "z3WU4zhwFi2R"
      },
      "execution_count": null,
      "outputs": []
    },
    {
      "cell_type": "code",
      "source": [
        "df = pd.read_csv(os.path.join(BASE_DIR, \"train.csv\"))\n",
        "df[\"class_name\"] = df[\"label\"].map(map_classes)\n",
        "df"
      ],
      "metadata": {
        "execution": {
          "iopub.status.busy": "2022-01-04T15:55:51.823866Z",
          "iopub.execute_input": "2022-01-04T15:55:51.824371Z",
          "iopub.status.idle": "2022-01-04T15:55:51.85251Z",
          "shell.execute_reply.started": "2022-01-04T15:55:51.824336Z",
          "shell.execute_reply": "2022-01-04T15:55:51.85183Z"
        },
        "trusted": true,
        "id": "xpc2yJiEFi2R"
      },
      "execution_count": null,
      "outputs": []
    },
    {
      "cell_type": "code",
      "source": [
        "def show_image(class_name, examples=2, labels_df=df, train_images_path=\"../input/cassava-leaf-disease-classification/train_images/\"):\n",
        "    image_list = labels_df[labels_df['class_name'] == class_name].image_id[:examples]\n",
        "    plt.figure(figsize=(20,10))\n",
        "    for i, img in enumerate(image_list):\n",
        "        full_path = os.path.join(train_images_path, img)\n",
        "        img = Image.open(full_path)\n",
        "        plt.subplot(1 ,examples, i%examples +1)\n",
        "        plt.axis('off')\n",
        "        plt.imshow(img)\n",
        "        plt.title(class_name)"
      ],
      "metadata": {
        "execution": {
          "iopub.status.busy": "2022-01-04T15:55:51.853833Z",
          "iopub.execute_input": "2022-01-04T15:55:51.854305Z",
          "iopub.status.idle": "2022-01-04T15:55:51.861237Z",
          "shell.execute_reply.started": "2022-01-04T15:55:51.854269Z",
          "shell.execute_reply": "2022-01-04T15:55:51.860563Z"
        },
        "trusted": true,
        "id": "RX1oKwqkFi2S"
      },
      "execution_count": null,
      "outputs": []
    },
    {
      "cell_type": "markdown",
      "source": [
        "# Display classes:"
      ],
      "metadata": {
        "id": "auiTnFs8Fi2S"
      }
    },
    {
      "cell_type": "markdown",
      "source": [
        "### Healthy:"
      ],
      "metadata": {
        "id": "nUy-BfdGFi2T"
      }
    },
    {
      "cell_type": "code",
      "source": [
        "show_image(class_name='Healthy', examples=4)"
      ],
      "metadata": {
        "execution": {
          "iopub.status.busy": "2022-01-04T15:55:51.862387Z",
          "iopub.execute_input": "2022-01-04T15:55:51.863144Z",
          "iopub.status.idle": "2022-01-04T15:55:52.527501Z",
          "shell.execute_reply.started": "2022-01-04T15:55:51.86309Z",
          "shell.execute_reply": "2022-01-04T15:55:52.526809Z"
        },
        "trusted": true,
        "id": "lKREhRoTFi2T"
      },
      "execution_count": null,
      "outputs": []
    },
    {
      "cell_type": "markdown",
      "source": [
        "### Cassava Bacterial Blight (CBB):\n"
      ],
      "metadata": {
        "id": "KM_i4Q3gFi2T"
      }
    },
    {
      "cell_type": "code",
      "source": [
        "show_image(class_name='Cassava Bacterial Blight (CBB)', examples=4)"
      ],
      "metadata": {
        "execution": {
          "iopub.status.busy": "2022-01-04T15:55:52.528761Z",
          "iopub.execute_input": "2022-01-04T15:55:52.529151Z",
          "iopub.status.idle": "2022-01-04T15:55:53.203612Z",
          "shell.execute_reply.started": "2022-01-04T15:55:52.529101Z",
          "shell.execute_reply": "2022-01-04T15:55:53.202991Z"
        },
        "trusted": true,
        "id": "FZ5dztFVFi2U"
      },
      "execution_count": null,
      "outputs": []
    },
    {
      "cell_type": "markdown",
      "source": [
        "### Cassava Mosaic Disease (CMD):\n"
      ],
      "metadata": {
        "id": "nlxeAm_0Fi2U"
      }
    },
    {
      "cell_type": "code",
      "source": [
        "show_image(class_name='Cassava Mosaic Disease (CMD)', examples=4)"
      ],
      "metadata": {
        "execution": {
          "iopub.status.busy": "2022-01-04T15:55:53.204991Z",
          "iopub.execute_input": "2022-01-04T15:55:53.205505Z",
          "iopub.status.idle": "2022-01-04T15:55:53.842559Z",
          "shell.execute_reply.started": "2022-01-04T15:55:53.205466Z",
          "shell.execute_reply": "2022-01-04T15:55:53.841942Z"
        },
        "trusted": true,
        "id": "1I40MqOHFi2U"
      },
      "execution_count": null,
      "outputs": []
    },
    {
      "cell_type": "markdown",
      "source": [
        "### Cassava Brown Streak Disease (CBSD)\n"
      ],
      "metadata": {
        "id": "xhWl7oyBFi2U"
      }
    },
    {
      "cell_type": "code",
      "source": [
        "show_image(class_name='Cassava Brown Streak Disease (CBSD)', examples=4)"
      ],
      "metadata": {
        "execution": {
          "iopub.status.busy": "2022-01-04T15:55:53.846877Z",
          "iopub.execute_input": "2022-01-04T15:55:53.847403Z",
          "iopub.status.idle": "2022-01-04T15:55:54.607516Z",
          "shell.execute_reply.started": "2022-01-04T15:55:53.847364Z",
          "shell.execute_reply": "2022-01-04T15:55:54.606931Z"
        },
        "trusted": true,
        "id": "QYuZ_R2mFi2V"
      },
      "execution_count": null,
      "outputs": []
    },
    {
      "cell_type": "markdown",
      "source": [
        "### Cassava Green Mottle (CGM):"
      ],
      "metadata": {
        "id": "UbJKnesDFi2V"
      }
    },
    {
      "cell_type": "code",
      "source": [
        "show_image(class_name='Cassava Green Mottle (CGM)', examples=4)"
      ],
      "metadata": {
        "execution": {
          "iopub.status.busy": "2022-01-04T15:55:54.608807Z",
          "iopub.execute_input": "2022-01-04T15:55:54.60925Z",
          "iopub.status.idle": "2022-01-04T15:55:55.220005Z",
          "shell.execute_reply.started": "2022-01-04T15:55:54.609215Z",
          "shell.execute_reply": "2022-01-04T15:55:55.219366Z"
        },
        "trusted": true,
        "id": "RXP8JywJFi2V"
      },
      "execution_count": null,
      "outputs": []
    },
    {
      "cell_type": "code",
      "source": [
        "df['label'].value_counts()"
      ],
      "metadata": {
        "execution": {
          "iopub.status.busy": "2022-01-04T15:55:55.221149Z",
          "iopub.execute_input": "2022-01-04T15:55:55.221479Z",
          "iopub.status.idle": "2022-01-04T15:55:55.229682Z",
          "shell.execute_reply.started": "2022-01-04T15:55:55.221448Z",
          "shell.execute_reply": "2022-01-04T15:55:55.229021Z"
        },
        "trusted": true,
        "id": "ItLblE9LFi2V"
      },
      "execution_count": null,
      "outputs": []
    },
    {
      "cell_type": "code",
      "source": [
        "plt.figure(figsize=(15,12))\n",
        "labels = sns.barplot(df.label.value_counts().index,df.label.value_counts())\n",
        "for item in labels.get_xticklabels():\n",
        "    item.set_rotation(45)"
      ],
      "metadata": {
        "execution": {
          "iopub.status.busy": "2022-01-04T15:55:55.230994Z",
          "iopub.execute_input": "2022-01-04T15:55:55.231672Z",
          "iopub.status.idle": "2022-01-04T15:55:55.451211Z",
          "shell.execute_reply.started": "2022-01-04T15:55:55.231611Z",
          "shell.execute_reply": "2022-01-04T15:55:55.450596Z"
        },
        "trusted": true,
        "id": "ULlfSw9YFi2W"
      },
      "execution_count": null,
      "outputs": []
    },
    {
      "cell_type": "code",
      "source": [
        "source = df['label'].value_counts()\n",
        "fig = go.Figure(data=[go.Pie(labels=source.index,values=source.values)])\n",
        "fig.update_layout(title='Label distribution')\n",
        "fig.show()"
      ],
      "metadata": {
        "execution": {
          "iopub.status.busy": "2022-01-04T15:55:55.452533Z",
          "iopub.execute_input": "2022-01-04T15:55:55.452845Z",
          "iopub.status.idle": "2022-01-04T15:55:55.464238Z",
          "shell.execute_reply.started": "2022-01-04T15:55:55.452794Z",
          "shell.execute_reply": "2022-01-04T15:55:55.463358Z"
        },
        "trusted": true,
        "id": "yqK6HNYCFi2W"
      },
      "execution_count": null,
      "outputs": []
    },
    {
      "cell_type": "code",
      "source": [
        "sfk = StratifiedKFold(10)\n",
        "for train_idx, valid_idx in sfk.split(df.index, df['label']):\n",
        "    df_train = df.iloc[train_idx]\n",
        "    df_valid = df.iloc[valid_idx]\n",
        "    break\n",
        "sfk = StratifiedKFold(5)\n",
        "for train_idx, valid_idx in sfk.split(df_valid.index, df_valid['label']):\n",
        "    df_train = df_valid.iloc[train_idx]\n",
        "    df_valid = df_valid.iloc[valid_idx]\n",
        "    break\n",
        "print(f\"train size: {len(df_train)}\")\n",
        "print(f\"valid size: {len(df_valid)}\")"
      ],
      "metadata": {
        "execution": {
          "iopub.status.busy": "2022-01-04T15:55:55.465698Z",
          "iopub.execute_input": "2022-01-04T15:55:55.465956Z",
          "iopub.status.idle": "2022-01-04T15:55:55.483772Z",
          "shell.execute_reply.started": "2022-01-04T15:55:55.465921Z",
          "shell.execute_reply": "2022-01-04T15:55:55.483007Z"
        },
        "trusted": true,
        "id": "eChv0S2qFi2W"
      },
      "execution_count": null,
      "outputs": []
    },
    {
      "cell_type": "code",
      "source": [
        "sfk = StratifiedKFold(5)\n",
        "for train_idx, valid_idx in sfk.split(df.index, df['label']):\n",
        "    df_train = df.iloc[train_idx]\n",
        "    df_valid = df.iloc[valid_idx]\n",
        "    break\n",
        "print(f\"train size: {len(df_train)}\")\n",
        "print(f\"valid size: {len(df_valid)}\")"
      ],
      "metadata": {
        "execution": {
          "iopub.status.busy": "2022-01-04T15:55:55.485107Z",
          "iopub.execute_input": "2022-01-04T15:55:55.485396Z",
          "iopub.status.idle": "2022-01-04T15:55:55.497254Z",
          "shell.execute_reply.started": "2022-01-04T15:55:55.485362Z",
          "shell.execute_reply": "2022-01-04T15:55:55.496531Z"
        },
        "trusted": true,
        "id": "QyR1aKS5Fi2W"
      },
      "execution_count": null,
      "outputs": []
    },
    {
      "cell_type": "code",
      "source": [
        "CFG = {\n",
        "    'img_size' : 300,\n",
        "    'fold_num': 5,\n",
        "    'seed': 719,\n",
        "    'model_arch': 'tf_efficientnet_b4_ns',\n",
        "    'epochs': 10,\n",
        "    'batch_size': 4,\n",
        "    'valid_bs': 32,\n",
        "    'T_0': 10,\n",
        "    'lr': 1e-4,\n",
        "    'min_lr': 1e-6,\n",
        "    'weight_decay':1e-6,\n",
        "    'num_workers': 4,\n",
        "    'accum_iter': 2, # suppoprt to do batch accumulation for backprop with effectively larger batch size\n",
        "    'verbose_step': 1,\n",
        "    'device': 'cuda:0'\n",
        "}"
      ],
      "metadata": {
        "execution": {
          "iopub.status.busy": "2022-01-04T15:55:55.498512Z",
          "iopub.execute_input": "2022-01-04T15:55:55.49875Z",
          "iopub.status.idle": "2022-01-04T15:55:55.504941Z",
          "shell.execute_reply.started": "2022-01-04T15:55:55.498717Z",
          "shell.execute_reply": "2022-01-04T15:55:55.503494Z"
        },
        "trusted": true,
        "id": "IC5QsaMzFi2W"
      },
      "execution_count": null,
      "outputs": []
    },
    {
      "cell_type": "code",
      "source": [
        "class CassavaDataset(Dataset):\n",
        "    def __init__(self, df, data_root, transforms=None, output_label=True):\n",
        "        super().__init__()\n",
        "        self.df = df.reset_index(drop=True).copy()\n",
        "        self.transforms = transforms\n",
        "        self.data_root = data_root\n",
        "        self.output_label = output_label\n",
        "    \n",
        "    def __len__(self):\n",
        "        return self.df.shape[0]\n",
        "    \n",
        "    def get_labels(self):\n",
        "        return self.df['label'].tolist()\n",
        "    \n",
        "    def __getitem__(self, index: int):\n",
        "        \n",
        "        # get labels\n",
        "        if self.output_label:\n",
        "            idx = self.df.iloc[index]['label']\n",
        "            target = np.zeros(5)\n",
        "            target[idx] = 1\n",
        "        path = \"{}/{}\".format(self.data_root, self.df.iloc[index]['image_id'])\n",
        "        img = cv2.imread(path)\n",
        "        img = cv2.cvtColor(img, cv2.COLOR_BGR2RGB)\n",
        "        if self.transforms:\n",
        "            img = self.transforms(image=img)['image'] \n",
        "        # do label smoothing\n",
        "        if self.output_label == True:\n",
        "            return img, target, idx\n",
        "        else:\n",
        "            return img"
      ],
      "metadata": {
        "execution": {
          "iopub.status.busy": "2022-01-04T15:55:55.505953Z",
          "iopub.execute_input": "2022-01-04T15:55:55.506749Z",
          "iopub.status.idle": "2022-01-04T15:55:55.517733Z",
          "shell.execute_reply.started": "2022-01-04T15:55:55.506711Z",
          "shell.execute_reply": "2022-01-04T15:55:55.516955Z"
        },
        "trusted": true,
        "id": "CBdHGI3ZFi2X"
      },
      "execution_count": null,
      "outputs": []
    },
    {
      "cell_type": "code",
      "source": [
        "def get_transform(phase: str):\n",
        "    if phase == 'train':\n",
        "        return A.Compose([\n",
        "            A.RandomResizedCrop(height=CFG[\"img_size\"], width=CFG[\"img_size\"]),\n",
        "            A.HorizontalFlip(p=0.5),\n",
        "            A.ShiftScaleRotate(p=0.5),\n",
        "            A.OneOf([\n",
        "            A.RandomBrightnessContrast(p=0.5),A.RandomGamma(p=0.5)], p=0.5),\n",
        "            A.OneOf([\n",
        "            A.Blur(p=0.4),\n",
        "            A.GaussianBlur(p=0.4),\n",
        "            A.MotionBlur(p=0.4)], p=0.4),\n",
        "            A.OneOf([\n",
        "            A.GaussNoise(p=0.4),\n",
        "            A.ISONoise(p=0.4),\n",
        "            A.GridDropout(ratio=0.5, p=0.2),\n",
        "            A.CoarseDropout(max_holes=16, min_holes=8, max_height=16, max_width=16, min_height=8, min_width=8, p=0.2)], p=0.2),\n",
        "            A.Normalize(),\n",
        "            ToTensorV2(),\n",
        "        ])\n",
        "    else:\n",
        "        return A.Compose([\n",
        "            A.Resize(height=CFG[\"img_size\"], width=CFG[\"img_size\"]),\n",
        "            A.Normalize(),\n",
        "            ToTensorV2(),\n",
        "        ])"
      ],
      "metadata": {
        "execution": {
          "iopub.status.busy": "2022-01-04T15:55:55.518646Z",
          "iopub.execute_input": "2022-01-04T15:55:55.518817Z",
          "iopub.status.idle": "2022-01-04T15:55:55.530744Z",
          "shell.execute_reply.started": "2022-01-04T15:55:55.518795Z",
          "shell.execute_reply": "2022-01-04T15:55:55.529983Z"
        },
        "trusted": true,
        "id": "XQCgkdodFi2X"
      },
      "execution_count": null,
      "outputs": []
    },
    {
      "cell_type": "code",
      "source": [
        "class AverageMeter(object):\n",
        "    \"\"\"Computes and stores the average and current value\"\"\"\n",
        "    def __init__(self):\n",
        "        self.reset()\n",
        "\n",
        "    def reset(self):\n",
        "        self.val = 0\n",
        "        self.avg = 0\n",
        "        self.sum = 0\n",
        "        self.count = 0\n",
        "\n",
        "    def update(self, val, n=1):\n",
        "        self.val = val\n",
        "        self.sum += val * n\n",
        "        self.count += n\n",
        "        self.avg = self.sum / self.count"
      ],
      "metadata": {
        "execution": {
          "iopub.status.busy": "2022-01-04T15:55:55.532126Z",
          "iopub.execute_input": "2022-01-04T15:55:55.532817Z",
          "iopub.status.idle": "2022-01-04T15:55:55.540453Z",
          "shell.execute_reply.started": "2022-01-04T15:55:55.532773Z",
          "shell.execute_reply": "2022-01-04T15:55:55.539691Z"
        },
        "trusted": true,
        "id": "OrMqiebDFi2X"
      },
      "execution_count": null,
      "outputs": []
    },
    {
      "cell_type": "code",
      "source": [
        "def to_numpy(tensor):\n",
        "    \"\"\"Auxiliary function to convert tensors into numpy arrays\n",
        "    \"\"\"\n",
        "#     print(tensor)\n",
        "#     print(type(tensor))\n",
        "    return tensor.detach().cpu().numpy() if tensor.requires_grad else tensor.cpu().numpy()\n"
      ],
      "metadata": {
        "execution": {
          "iopub.status.busy": "2022-01-04T15:55:55.542228Z",
          "iopub.execute_input": "2022-01-04T15:55:55.543247Z",
          "iopub.status.idle": "2022-01-04T15:55:55.551887Z",
          "shell.execute_reply.started": "2022-01-04T15:55:55.543209Z",
          "shell.execute_reply": "2022-01-04T15:55:55.551163Z"
        },
        "trusted": true,
        "id": "wzhwz1PrFi2Y"
      },
      "execution_count": null,
      "outputs": []
    },
    {
      "cell_type": "code",
      "source": [
        "device = torch.device(\"cuda:0\" if torch.cuda.is_available() else \"cpu\")\n",
        "DEBUG = False \n",
        "def train(train_loader, model, optimizer, epoch, criterion, cv = False, model_name = None):\n",
        "    m = nn.Sigmoid()\n",
        "    accuracy = AverageMeter()\n",
        "    acc_cls1 = AverageMeter()\n",
        "    acc_cls2 = AverageMeter()\n",
        "    acc_cls3 = AverageMeter()\n",
        "    acc_cls4 = AverageMeter()\n",
        "    acc_cls5 = AverageMeter()\n",
        "    acc_list = [acc_cls1,\n",
        "                acc_cls2,\n",
        "                acc_cls3,\n",
        "                acc_cls4,\n",
        "                acc_cls5]\n",
        "    losses = AverageMeter()\n",
        "    model.train()\n",
        "    for i, (img, target, target_num) in tqdm(enumerate(train_loader)):\n",
        "            \n",
        "        img = img.float()    \n",
        "        img = img.to(device)\n",
        "        target = target.to(device)\n",
        "        target_num = target_num.to(device)\n",
        "        optimizer.zero_grad()\n",
        "        \n",
        "        if model_name == 'inception':\n",
        "            output, aux_outputs = model(img)\n",
        "            loss1 = criterion(output, target)\n",
        "            loss2 = criterion(aux_outputs, target)\n",
        "            loss = loss1 + 0.4*loss2\n",
        "        else:\n",
        "            output = model(img)\n",
        "            loss = criterion(output, target)\n",
        "\n",
        "        loss.backward()\n",
        "\n",
        "        optimizer.step()\n",
        "    \n",
        "        pred = m(output)        \n",
        "        \n",
        "        acc = torchmetrics.functional.accuracy(pred, target.int())\n",
        "        accuracy_per_class = torchmetrics.functional.accuracy(pred, target.int(), average = 'none', num_classes = 5)\n",
        "        target_num_unique, target_num_count = torch.unique(target_num.int(), return_counts = True)\n",
        "\n",
        "        for i,j in zip(target_num_unique, target_num_count):\n",
        "            acc_list[i.int()].update(accuracy_per_class[i.int()], j.int())\n",
        "\n",
        "        losses.update(loss.item(), img.size(0))\n",
        "        accuracy.update(acc, img.size(0))\n",
        "                \n",
        "        torch.cuda.empty_cache()\n",
        "\n",
        "    if not cv:\n",
        "        wandb.log({\"train loss\": losses.avg, \"train acc\": accuracy.avg*100, \"train acc cls1\": acc_cls1.avg*100,\n",
        "                  \"train acc cls2\": acc_cls2.avg*100, \"train acc cls3\": acc_cls3.avg*100,\n",
        "                   \"train acc cls4\": acc_cls4.avg*100, \"train acc cls5\": acc_cls5.avg*100}, step = epoch)\n",
        "    return losses.avg, accuracy.avg*100"
      ],
      "metadata": {
        "execution": {
          "iopub.status.busy": "2022-01-04T15:55:55.553576Z",
          "iopub.execute_input": "2022-01-04T15:55:55.553957Z",
          "iopub.status.idle": "2022-01-04T15:55:55.569409Z",
          "shell.execute_reply.started": "2022-01-04T15:55:55.553919Z",
          "shell.execute_reply": "2022-01-04T15:55:55.568554Z"
        },
        "trusted": true,
        "id": "_8Mgh9HgFi2Y"
      },
      "execution_count": null,
      "outputs": []
    },
    {
      "cell_type": "code",
      "source": [
        "best_acc = 0\n",
        "def validate(dataloader, model, criterion, optimizer, epoch, cv = False):\n",
        "    m = nn.Sigmoid()\n",
        "    acc = AverageMeter()\n",
        "    acc_cls1 = AverageMeter()\n",
        "    acc_cls2 = AverageMeter()\n",
        "    acc_cls3 = AverageMeter()\n",
        "    acc_cls4 = AverageMeter()\n",
        "    acc_cls5 = AverageMeter()\n",
        "    acc_list = [acc_cls1,\n",
        "                acc_cls2,\n",
        "                acc_cls3,\n",
        "                acc_cls4,\n",
        "                acc_cls5]\n",
        "    losses = AverageMeter()\n",
        "    model.eval()\n",
        "    loss_accumlated = 0\n",
        "    for i, (img, target, target_num) in tqdm(enumerate(dataloader)):\n",
        "        \n",
        "        img = img.float()\n",
        "        img = img.to(device)\n",
        "        target = target.to(device)\n",
        "        target_num = target_num.to(device)\n",
        "        \n",
        "        optimizer.zero_grad() \n",
        "        \n",
        "        output = model(img) \n",
        "        loss = criterion(output,target)\n",
        "        losses.update(loss.item(), img.size(0))\n",
        "        loss_accumlated += loss.item()\n",
        "                \n",
        "        pred = m(output)\n",
        "                \n",
        "        accuracy = torchmetrics.functional.accuracy(pred,  target.int())\n",
        "        accuracy_per_class = torchmetrics.functional.accuracy(pred, target.int(), average = 'none', num_classes = 5)\n",
        "        acc.update(accuracy, img.size(0))\n",
        "        \n",
        "        target_num_unique, target_num_count = torch.unique(target_num.int(), return_counts = True)\n",
        "\n",
        "        for i,j in zip(target_num_unique, target_num_count):\n",
        "            acc_list[i.int()].update(accuracy_per_class[i.int()], j.int())\n",
        "            \n",
        "        torch.cuda.empty_cache()\n",
        "\n",
        "\n",
        "    if not cv:\n",
        "        wandb.log({\"val loss\": losses.avg, \"val acc\": acc.avg*100, \"val acc cls1\": acc_cls1.avg*100,\n",
        "                   \"val acc cls2\": acc_cls2.avg*100, \"val acc cls3\": acc_cls3.avg*100,\n",
        "                   \"val acc cls4\": acc_cls4.avg*100, \"val acc cls5\": acc_cls5.avg*100}, step = epoch)\n",
        "    return losses.avg, acc.avg*100"
      ],
      "metadata": {
        "execution": {
          "iopub.status.busy": "2022-01-04T15:55:55.570825Z",
          "iopub.execute_input": "2022-01-04T15:55:55.571354Z",
          "iopub.status.idle": "2022-01-04T15:55:55.585521Z",
          "shell.execute_reply.started": "2022-01-04T15:55:55.571315Z",
          "shell.execute_reply": "2022-01-04T15:55:55.584787Z"
        },
        "trusted": true,
        "id": "Y9BU5-NyFi2Y"
      },
      "execution_count": null,
      "outputs": []
    },
    {
      "cell_type": "code",
      "source": [
        "def create_data():\n",
        "    BASE_DIR = \"../input/cassava-leaf-disease-classification/\"\n",
        "    dataset_path = Path('../input/cassava-leaf-disease-classification')\n",
        "    path_df = pd.read_csv(dataset_path/'train.csv')\n",
        "\n",
        "    with open(os.path.join(BASE_DIR, \"label_num_to_disease_map.json\")) as file:\n",
        "        map_classes = json.loads(file.read())\n",
        "        map_classes = {int(k) : v for k, v in map_classes.items()}\n",
        "    df = pd.read_csv(os.path.join(BASE_DIR, \"train.csv\"))\n",
        "    df[\"class_name\"] = df[\"label\"].map(map_classes)\n",
        "    return df"
      ],
      "metadata": {
        "execution": {
          "iopub.status.busy": "2022-01-04T15:55:55.587856Z",
          "iopub.execute_input": "2022-01-04T15:55:55.588428Z",
          "iopub.status.idle": "2022-01-04T15:55:55.596927Z",
          "shell.execute_reply.started": "2022-01-04T15:55:55.588387Z",
          "shell.execute_reply": "2022-01-04T15:55:55.596142Z"
        },
        "trusted": true,
        "id": "rb3I3mFHFi2Y"
      },
      "execution_count": null,
      "outputs": []
    },
    {
      "cell_type": "code",
      "source": [
        "def create_loaders(df_train, df_valid, batch_size, balanced = False):\n",
        "\n",
        "    train_dataset = CassavaDataset(df_train, '../input/cassava-leaf-disease-classification/train_images', transforms=get_transform(\"train\"))\n",
        "    if balanced:\n",
        "        train_loader = DataLoader(\n",
        "                        train_dataset,\n",
        "                        sampler=ImbalancedDatasetSampler(train_dataset),\n",
        "                        batch_size= batch_size, shuffle=False, num_workers=4, pin_memory=True, drop_last=True)\n",
        "    else:\n",
        "        train_loader = DataLoader(train_dataset, batch_size=batch_size, shuffle=True, num_workers=4, pin_memory=True, drop_last=True)\n",
        "\n",
        "    val_dataset = CassavaDataset(df_valid, '../input/cassava-leaf-disease-classification/train_images', transforms=get_transform(None))\n",
        "    valid_loader = DataLoader(val_dataset, batch_size=batch_size, shuffle=False, num_workers=4)\n",
        "    return train_loader, valid_loader"
      ],
      "metadata": {
        "execution": {
          "iopub.status.busy": "2022-01-04T15:55:55.597817Z",
          "iopub.execute_input": "2022-01-04T15:55:55.599926Z",
          "iopub.status.idle": "2022-01-04T15:55:55.607962Z",
          "shell.execute_reply.started": "2022-01-04T15:55:55.599883Z",
          "shell.execute_reply": "2022-01-04T15:55:55.607288Z"
        },
        "trusted": true,
        "id": "0jpR7O93Fi2Z"
      },
      "execution_count": null,
      "outputs": []
    },
    {
      "cell_type": "code",
      "source": [
        "def set_parameter_requires_grad(model, step_wise):\n",
        "    if step_wise:\n",
        "        for param in model.parameters():\n",
        "            param.requires_grad = False\n",
        "    else:\n",
        "        params_len = len(list(model.parameters()))\n",
        "        counter = 0\n",
        "        for param in model.parameters():\n",
        "            if counter >= params_len/2:\n",
        "                break\n",
        "            param.requires_grad = False\n",
        "            counter +=1"
      ],
      "metadata": {
        "execution": {
          "iopub.status.busy": "2022-01-04T15:55:55.609818Z",
          "iopub.execute_input": "2022-01-04T15:55:55.61044Z",
          "iopub.status.idle": "2022-01-04T15:55:55.617062Z",
          "shell.execute_reply.started": "2022-01-04T15:55:55.610402Z",
          "shell.execute_reply": "2022-01-04T15:55:55.616373Z"
        },
        "trusted": true,
        "id": "YPxIFWn7Fi2Z"
      },
      "execution_count": null,
      "outputs": []
    },
    {
      "cell_type": "code",
      "source": [
        "def create_model(model_conf, step_wise):\n",
        "    if model_conf == \"resnet50\":\n",
        "        model = models.resnet50(pretrained = True)\n",
        "        set_parameter_requires_grad(model, step_wise)\n",
        "        in_features = model.fc.in_features\n",
        "        model.fc = torch.nn.Linear(in_features, 5)\n",
        "    elif model_conf == \"vgg16\":\n",
        "        model = models.vgg16_bn(pretrained=True)\n",
        "        set_parameter_requires_grad(model, step_wise)\n",
        "        in_features = model.classifier[6].in_features\n",
        "        model.classifier[6] = torch.nn.Linear(in_features, 5)\n",
        "    elif model_conf == \"inception\":\n",
        "        model = models.inception_v3(pretrained=True)\n",
        "        set_parameter_requires_grad(model, step_wise)\n",
        "        # Handle the auxilary net\n",
        "        num_ftrs = model.AuxLogits.fc.in_features\n",
        "        model.AuxLogits.fc = nn.Linear(num_ftrs, 5)\n",
        "        # Handle the primary net\n",
        "        num_ftrs = model.fc.in_features\n",
        "        model.fc = nn.Linear(num_ftrs,5)\n",
        "    elif model_conf == \"ResNext50\":\n",
        "        model = models.resnext50_32x4d(pretrained = True)\n",
        "        set_parameter_requires_grad(model, step_wise)\n",
        "        in_features = model.fc.in_features\n",
        "        model.fc = torch.nn.Linear(in_features, 5)\n",
        "    elif model_conf == \"mobileNet\":   \n",
        "        model_mobilenet = models.mobilenet_v3_large(pretrained = True)\n",
        "        in_features = model_mobilenet.classifier[3].in_features\n",
        "        model_mobilenet.classifier[3] = torch.nn.Linear(in_features, 5)\n",
        "\n",
        "    model = model.cuda()\n",
        "    return model"
      ],
      "metadata": {
        "execution": {
          "iopub.status.busy": "2022-01-04T15:55:55.619487Z",
          "iopub.execute_input": "2022-01-04T15:55:55.620199Z",
          "iopub.status.idle": "2022-01-04T15:55:55.630505Z",
          "shell.execute_reply.started": "2022-01-04T15:55:55.620163Z",
          "shell.execute_reply": "2022-01-04T15:55:55.629638Z"
        },
        "trusted": true,
        "id": "jmm3tY_1Fi2Z"
      },
      "execution_count": null,
      "outputs": []
    },
    {
      "cell_type": "code",
      "source": [
        "def create_opt(network, optimizer, learning_rate, weight_decay = 0, momentum = 0.9):\n",
        "    if optimizer == \"sgd\":\n",
        "        optimizer = optim.SGD(network.parameters(),\n",
        "                            lr=learning_rate, momentum = momentum, weight_decay = weight_decay)\n",
        "    elif optimizer == \"adamw\":\n",
        "        optimizer = optim.AdamW(network.parameters(),\n",
        "                               lr=learning_rate, weight_decay = weight_decay)\n",
        "    return optimizer\n",
        "    "
      ],
      "metadata": {
        "execution": {
          "iopub.status.busy": "2022-01-04T15:55:55.632065Z",
          "iopub.execute_input": "2022-01-04T15:55:55.633297Z",
          "iopub.status.idle": "2022-01-04T15:55:55.639719Z",
          "shell.execute_reply.started": "2022-01-04T15:55:55.633261Z",
          "shell.execute_reply": "2022-01-04T15:55:55.638831Z"
        },
        "trusted": true,
        "id": "IuMYzGgUFi2Z"
      },
      "execution_count": null,
      "outputs": []
    },
    {
      "cell_type": "code",
      "source": [
        "class FocalLoss(nn.Module):\n",
        "    def __init__(self, alpha=0.25, gamma=2, logist=False, reduce='mean'):\n",
        "        super(FocalLoss, self).__init__()\n",
        "        self.alpha = alpha # the scalar factor between 0 and 1 \n",
        "        self.gamma = gamma # focusing parameter(always positive) that reduces the relative loss for well-classified examples and puts more focus on hard misclassified examples\n",
        "        self.BCE_Logits_loss = nn.BCEWithLogitsLoss()\n",
        "        #self.logist = logist # log probabilities \n",
        "        self.reduce = reduce # Specifies the reduction to apply to the output - none/mean/sum. ‘none’: no reduction will be applied, ‘mean’: the sum of the output will be divided by the number of elements in the output, ‘sum’: the output will be summed.\n",
        "\n",
        "    def forward(self, inputs, targets):\n",
        "        BCE_loss = self.BCE_Logits_loss(inputs, targets)\n",
        "        pt = torch.exp(-BCE_loss)\n",
        "        F_loss = self.alpha * (1-pt)**self.gamma * BCE_loss\n",
        "\n",
        "        if self.reduce:\n",
        "            return torch.mean(F_loss)\n",
        "        else:\n",
        "            return F_loss"
      ],
      "metadata": {
        "execution": {
          "iopub.status.busy": "2022-01-04T15:55:55.640961Z",
          "iopub.execute_input": "2022-01-04T15:55:55.641591Z",
          "iopub.status.idle": "2022-01-04T15:55:55.649958Z",
          "shell.execute_reply.started": "2022-01-04T15:55:55.641545Z",
          "shell.execute_reply": "2022-01-04T15:55:55.649072Z"
        },
        "trusted": true,
        "id": "HFkA4HKoFi2Z"
      },
      "execution_count": null,
      "outputs": []
    },
    {
      "cell_type": "code",
      "source": [
        "def create_criterion(loss):\n",
        "    if loss == \"BCE\":\n",
        "        criterion = nn.BCEWithLogitsLoss()\n",
        "    if loss == \"FL\":\n",
        "        criterion = FocalLoss()\n",
        "    return criterion"
      ],
      "metadata": {
        "execution": {
          "iopub.status.busy": "2022-01-04T15:55:55.651412Z",
          "iopub.execute_input": "2022-01-04T15:55:55.651969Z",
          "iopub.status.idle": "2022-01-04T15:55:55.659002Z",
          "shell.execute_reply.started": "2022-01-04T15:55:55.651923Z",
          "shell.execute_reply": "2022-01-04T15:55:55.658159Z"
        },
        "trusted": true,
        "id": "VlgM7hHkFi2a"
      },
      "execution_count": null,
      "outputs": []
    },
    {
      "cell_type": "code",
      "source": [
        "def unfreeze(model, step):\n",
        "    params_len = len(list(model.parameters()))\n",
        "    counter = 0\n",
        "    for param in model.parameters():\n",
        "        if counter >= (step/3)*params_len:\n",
        "            param.requires_grad = True\n",
        "        counter +=1"
      ],
      "metadata": {
        "execution": {
          "iopub.status.busy": "2022-01-04T15:55:55.661296Z",
          "iopub.execute_input": "2022-01-04T15:55:55.661984Z",
          "iopub.status.idle": "2022-01-04T15:55:55.66777Z",
          "shell.execute_reply.started": "2022-01-04T15:55:55.661946Z",
          "shell.execute_reply": "2022-01-04T15:55:55.6669Z"
        },
        "trusted": true,
        "id": "GUNN_tNZFi2a"
      },
      "execution_count": null,
      "outputs": []
    },
    {
      "cell_type": "code",
      "source": [
        "def train_hyperparameters(config=None):\n",
        "    with wandb.init(config=config):\n",
        "        config = wandb.config\n",
        "        EPOCHS = config.epochs\n",
        "        df = create_data()\n",
        "#         sfk = StratifiedKFold(5)\n",
        "#         for train_idx, valid_idx in sfk.split(df.index, df['label']):\n",
        "#             df_train = df.iloc[train_idx]\n",
        "#             df_val = df.iloc[valid_idx]\n",
        "#             break\n",
        "        sfk = StratifiedKFold(5)\n",
        "        for train_idx, valid_idx in sfk.split(df.index, df['label']):\n",
        "            df_train = df.iloc[train_idx]\n",
        "            df_valid = df.iloc[valid_idx]\n",
        "            break\n",
        "        loader_train, loader_val = create_loaders(df_train, df_valid, config.batch_size, config.balance == 'true')\n",
        "        model = create_model(config.model, config.step_wise)\n",
        "        opt = create_opt(model, config.optimizer, config.learning_rate, config.weight_decay, config.momentum)\n",
        "        criterion = create_criterion(config.criterion)\n",
        "        losses_train = []\n",
        "        acc_train = []\n",
        "        losses_val = []\n",
        "        acc_val = []\n",
        "        step_wise_count = 2\n",
        "        if config.scheduler:\n",
        "            scheduler = torch.optim.lr_scheduler.ReduceLROnPlateau(opt, mode='min', factor=0.2, patience=5, eps=1e-6)\n",
        "\n",
        "        for e in range(EPOCHS):\n",
        "            result_train = train(loader_train, model, opt, e, criterion, config.cv == 'true', config.model)\n",
        "            result_val = validate(loader_val, model, criterion, opt, e, config.cv == 'true')\n",
        "            if config.step_wise and e % 5 == 0:\n",
        "                unfreeze(model, step_wise_count)\n",
        "                step_wise_count -= 1\n",
        "            if config.scheduler:\n",
        "                scheduler.step(result_val[0])"
      ],
      "metadata": {
        "execution": {
          "iopub.status.busy": "2022-01-04T15:55:55.669144Z",
          "iopub.execute_input": "2022-01-04T15:55:55.66963Z",
          "iopub.status.idle": "2022-01-04T15:55:55.682597Z",
          "shell.execute_reply.started": "2022-01-04T15:55:55.669591Z",
          "shell.execute_reply": "2022-01-04T15:55:55.681765Z"
        },
        "trusted": true,
        "id": "_CxY741cFi2a"
      },
      "execution_count": null,
      "outputs": []
    },
    {
      "cell_type": "code",
      "source": [
        "import math\n",
        "\n",
        "sweep_config = {\n",
        "    'method': 'random'\n",
        "    }\n",
        "\n",
        "metric = {\n",
        "    'name': 'val acc',\n",
        "    'goal': 'maximize'  \n",
        "    }\n",
        "\n",
        "sweep_config['metric'] = metric\n",
        "\n",
        "parameters_dict = {\n",
        "    'optimizer': {\n",
        "        'value': 'adamw'\n",
        "        },\n",
        "    'model': {\n",
        "        'value': 'resnet50'\n",
        "        },\n",
        "    'cv': {\n",
        "        'value' : 'true'\n",
        "    },\n",
        "    'weight_decay':{\n",
        "        'value' : 0.006764\n",
        "    },\n",
        "    'momentum':{\n",
        "        'value' : 0.9\n",
        "    },\n",
        "    'criterion':{\n",
        "        'value' : \"FL\"\n",
        "    },\n",
        "    'balance':{\n",
        "        'value' : 'false'\n",
        "    },\n",
        "    'step_wise':{\n",
        "        'value' : True\n",
        "    }\n",
        "    }\n",
        "\n",
        "sweep_config['parameters'] = parameters_dict\n",
        "\n",
        "\n",
        "parameters_dict.update({\n",
        "    'epochs': {\n",
        "        'value': 20}\n",
        "    })\n",
        "\n",
        "parameters_dict.update({\n",
        "    'learning_rate': {\n",
        "        'value' : 0.0000881\n",
        "      },\n",
        "    'scheduler': {\n",
        "        'value' : True\n",
        "      },\n",
        "    'batch_size': {\n",
        "        # with evenly-distributed logarithms \n",
        "        'value': 32\n",
        "      }\n",
        "    })"
      ],
      "metadata": {
        "execution": {
          "iopub.status.busy": "2022-01-04T15:55:55.684208Z",
          "iopub.execute_input": "2022-01-04T15:55:55.684705Z",
          "iopub.status.idle": "2022-01-04T15:55:55.693332Z",
          "shell.execute_reply.started": "2022-01-04T15:55:55.684665Z",
          "shell.execute_reply": "2022-01-04T15:55:55.692451Z"
        },
        "trusted": true,
        "id": "Fqv__w2pFi2a"
      },
      "execution_count": null,
      "outputs": []
    },
    {
      "cell_type": "code",
      "source": [
        "# sweep_id = wandb.sweep(sweep_config, project=\"ML_seminar\", entity=\"seminar\")"
      ],
      "metadata": {
        "execution": {
          "iopub.status.busy": "2022-01-04T15:55:55.694439Z",
          "iopub.execute_input": "2022-01-04T15:55:55.695211Z",
          "iopub.status.idle": "2022-01-04T15:55:55.702902Z",
          "shell.execute_reply.started": "2022-01-04T15:55:55.695173Z",
          "shell.execute_reply": "2022-01-04T15:55:55.702134Z"
        },
        "trusted": true,
        "id": "oEisNtzBFi2b"
      },
      "execution_count": null,
      "outputs": []
    },
    {
      "cell_type": "code",
      "source": [
        "# wandb.agent(sweep_id, train_hyperparameters, count=1)"
      ],
      "metadata": {
        "execution": {
          "iopub.status.busy": "2022-01-04T15:55:55.704185Z",
          "iopub.execute_input": "2022-01-04T15:55:55.704559Z",
          "iopub.status.idle": "2022-01-04T15:55:55.710819Z",
          "shell.execute_reply.started": "2022-01-04T15:55:55.704522Z",
          "shell.execute_reply": "2022-01-04T15:55:55.710159Z"
        },
        "trusted": true,
        "id": "fYNOuiWfFi2b"
      },
      "execution_count": null,
      "outputs": []
    },
    {
      "cell_type": "code",
      "source": [
        "def train_cv(config=None):\n",
        "    with wandb.init(config=config):\n",
        "        config = wandb.config\n",
        "        EPOCHS = config.epochs\n",
        "        df = create_data()\n",
        "        all_losses_train = []\n",
        "        all_acc_train = []\n",
        "        all_losses_val = []\n",
        "        all_acc_val = []\n",
        "        max_val_acc = 0\n",
        "#         sfk = StratifiedKFold(14)\n",
        "#         for train_idx, valid_idx in sfk.split(df.index, df['label']):\n",
        "#             df_train = df.iloc[train_idx]\n",
        "#             df_val = df.iloc[valid_idx]\n",
        "#             break\n",
        "        sfk = StratifiedKFold(5)\n",
        "        for train_idx, valid_idx in sfk.split(df.index, df['label']):\n",
        "            df_train = df.iloc[train_idx]\n",
        "            df_valid = df.iloc[valid_idx]\n",
        "            \n",
        "            loader_train, loader_val = create_loaders(df_train, df_valid, config.batch_size, config.balance == 'true')\n",
        "            model = create_model(config.model, config.step_wise)\n",
        "            opt = create_opt(model, config.optimizer, config.learning_rate)\n",
        "            criterion = create_criterion(config.criterion)\n",
        "            losses_train = []\n",
        "            acc_train = []\n",
        "            losses_val = []\n",
        "            acc_val = []\n",
        "            if config.scheduler:\n",
        "                scheduler = torch.optim.lr_scheduler.ReduceLROnPlateau(opt, mode='min', factor=0.2, patience=5, eps=1e-6)\n",
        "            step_wise_count = 2\n",
        "            for e in range(EPOCHS):\n",
        "                result_train = train(loader_train, model, opt, e, criterion, config.cv == 'true', config.model)\n",
        "                result_val = validate(loader_val, model, criterion, opt, e, config.cv == 'true')\n",
        "                \n",
        "                if config.step_wise and e % 5 == 0:\n",
        "                    unfreeze(model, step_wise_count)\n",
        "                    step_wise_count -= 1\n",
        "                \n",
        "                if config.scheduler:\n",
        "                    scheduler.step(result_val[0])\n",
        "                    \n",
        "                losses_train.append(result_train[0])\n",
        "                acc_train.append(result_train[1])\n",
        "                losses_val.append(result_val[0])\n",
        "                acc_val.append(result_val[1])\n",
        "                \n",
        "                if max_val_acc < result_val[1]:\n",
        "                    max_val_acc = result_val[1]\n",
        "                    torch.save(model, './model_resnet50')\n",
        "            \n",
        "            all_losses_train.append(losses_train)\n",
        "            all_acc_train.append(acc_train)\n",
        "            all_losses_val.append(losses_val)\n",
        "            all_acc_val.append(acc_val)\n",
        "            \n",
        "        total_losses_train = []\n",
        "        total_acc_train = []\n",
        "        total_losses_val = []\n",
        "        total_acc_val = []\n",
        "        \n",
        "        for i in range(EPOCHS):\n",
        "            temp1 = 0\n",
        "            temp2 = 0\n",
        "            temp3 = 0\n",
        "            temp4 = 0\n",
        "            \n",
        "            for j in range(5):\n",
        "                temp1 = temp1 + all_losses_train[j][i]\n",
        "                temp2 = temp2 + all_acc_train[j][i]\n",
        "                temp3 = temp3 + all_losses_val[j][i]\n",
        "                temp4 = temp4 + all_acc_val[j][i]\n",
        "            \n",
        "            total_losses_train.append(temp1/5)\n",
        "            total_acc_train.append(temp2/5)\n",
        "            total_losses_val.append(temp3/5)\n",
        "            total_acc_val.append(temp4/5)\n",
        "            \n",
        "        for i in range(EPOCHS):\n",
        "            wandb.log({\"train loss cv\": total_losses_train[i], \"train acc cv\": total_acc_train[i], \"val loss cv\": total_losses_val[i], \"val acc cv\": total_acc_val[i]})\n",
        "\n",
        "            # return losses_train, acc_train, losses_val, acc_val"
      ],
      "metadata": {
        "execution": {
          "iopub.status.busy": "2022-01-04T15:55:55.71208Z",
          "iopub.execute_input": "2022-01-04T15:55:55.712689Z",
          "iopub.status.idle": "2022-01-04T15:55:55.731411Z",
          "shell.execute_reply.started": "2022-01-04T15:55:55.712646Z",
          "shell.execute_reply": "2022-01-04T15:55:55.730647Z"
        },
        "trusted": true,
        "id": "dpWQiachFi2b"
      },
      "execution_count": null,
      "outputs": []
    },
    {
      "cell_type": "code",
      "source": [
        "# sweep_id = wandb.sweep(sweep_config, project=\"ML_seminar\", entity=\"seminar\")"
      ],
      "metadata": {
        "execution": {
          "iopub.status.busy": "2022-01-04T15:55:55.737909Z",
          "iopub.execute_input": "2022-01-04T15:55:55.738105Z",
          "iopub.status.idle": "2022-01-04T15:55:55.741882Z",
          "shell.execute_reply.started": "2022-01-04T15:55:55.738081Z",
          "shell.execute_reply": "2022-01-04T15:55:55.741073Z"
        },
        "trusted": true,
        "id": "zlnflLviFi2b"
      },
      "execution_count": null,
      "outputs": []
    },
    {
      "cell_type": "code",
      "source": [
        "# wandb.agent(sweep_id, train_cv, count=1)"
      ],
      "metadata": {
        "execution": {
          "iopub.status.busy": "2022-01-04T15:55:55.74335Z",
          "iopub.execute_input": "2022-01-04T15:55:55.743957Z",
          "iopub.status.idle": "2022-01-04T15:55:55.749222Z",
          "shell.execute_reply.started": "2022-01-04T15:55:55.743863Z",
          "shell.execute_reply": "2022-01-04T15:55:55.748321Z"
        },
        "trusted": true,
        "id": "RwHdITJCFi2b"
      },
      "execution_count": null,
      "outputs": []
    },
    {
      "cell_type": "code",
      "source": [
        "df = create_data()\n",
        "sfk = StratifiedKFold(5)\n",
        "for train_idx, valid_idx in sfk.split(df.index, df['label']):\n",
        "    df_train = df.iloc[train_idx]\n",
        "    df_valid = df.iloc[valid_idx]\n",
        "    break\n",
        "val_dataset = CassavaDataset(df_valid, '../input/cassava-leaf-disease-classification/train_images', transforms=get_transform(None))\n",
        "valid_loader = DataLoader(val_dataset, batch_size=1, shuffle=False, num_workers=4)"
      ],
      "metadata": {
        "execution": {
          "iopub.status.busy": "2022-01-04T15:55:55.750744Z",
          "iopub.execute_input": "2022-01-04T15:55:55.751048Z",
          "iopub.status.idle": "2022-01-04T15:55:55.806126Z",
          "shell.execute_reply.started": "2022-01-04T15:55:55.75101Z",
          "shell.execute_reply": "2022-01-04T15:55:55.805265Z"
        },
        "trusted": true,
        "id": "Xx_l4nISFi2b"
      },
      "execution_count": null,
      "outputs": []
    },
    {
      "cell_type": "code",
      "source": [
        "DEVICE = 'cuda' if torch.cuda.is_available() else 'cpu'"
      ],
      "metadata": {
        "execution": {
          "iopub.status.busy": "2022-01-04T15:55:55.810549Z",
          "iopub.execute_input": "2022-01-04T15:55:55.8108Z",
          "iopub.status.idle": "2022-01-04T15:55:55.825324Z",
          "shell.execute_reply.started": "2022-01-04T15:55:55.810767Z",
          "shell.execute_reply": "2022-01-04T15:55:55.824056Z"
        },
        "trusted": true,
        "id": "Zao9_FY8Fi2c"
      },
      "execution_count": null,
      "outputs": []
    },
    {
      "cell_type": "code",
      "source": [
        "def Sigmoid(x):\n",
        "    return 1/(1 + np.exp(-x))"
      ],
      "metadata": {
        "execution": {
          "iopub.status.busy": "2022-01-04T15:55:55.830242Z",
          "iopub.execute_input": "2022-01-04T15:55:55.83283Z",
          "iopub.status.idle": "2022-01-04T15:55:55.838305Z",
          "shell.execute_reply.started": "2022-01-04T15:55:55.832784Z",
          "shell.execute_reply": "2022-01-04T15:55:55.837288Z"
        },
        "trusted": true,
        "id": "aHwpUdUOFi2c"
      },
      "execution_count": null,
      "outputs": []
    },
    {
      "cell_type": "code",
      "source": [
        "def predict(model, loader):\n",
        "    y_true = np.empty(shape=(0, 5), dtype=np.int)\n",
        "    y_pred_proba = np.empty(shape=(0, 5), dtype=np.int)\n",
        "    model = model.to(DEVICE)\n",
        "    model.eval()\n",
        "    stream = tqdm(loader)\n",
        "    pred_avg = [0, 0, 0, 0, 0]\n",
        "    pred_counts = [0, 0, 0, 0, 0]\n",
        "    pred_avg_0 = [0, 0, 0, 0, 0]\n",
        "    pred_counts_0 = [0, 0, 0, 0, 0]\n",
        "    \n",
        "    for batch, (X, y, y_n) in enumerate(stream, start=1):\n",
        "        X = X.to(DEVICE)\n",
        "        y = to_numpy(y.to(DEVICE))\n",
        "        pred = to_numpy(model(X))\n",
        "#         pred = Sigmoid(pred)\n",
        "        \n",
        "        pred_max = list(np.argmax(pred, 1))\n",
        "        \n",
        "        for i in range(len(pred_max)):\n",
        "            pred[i] = [0,0,0,0,0]\n",
        "            pred[i][pred_max[i]] = 1\n",
        "        \n",
        "        for i,j in zip(pred, y):\n",
        "             for k in range(5):\n",
        "                    if j[k] == 1:\n",
        "                        pred_avg[k] += i[k]\n",
        "                        pred_counts[k] += 1\n",
        "                    else:\n",
        "                        pred_avg_0[k] += i[k]\n",
        "                        pred_counts_0[k] += 1\n",
        "        \n",
        "        \n",
        "        y_true = np.vstack((y_true, y))\n",
        "        y_pred_proba = np.vstack((y_pred_proba, pred))\n",
        "    avg = [i/j for i, j in zip (pred_avg,pred_counts)]\n",
        "    avg_0 = [i/j for i, j in zip (pred_avg_0,pred_counts_0)]\n",
        "    print('average output values for true label' + str(avg))\n",
        "    print('average output values for false label' + str(avg_0))\n",
        "    return y_true, y_pred_proba"
      ],
      "metadata": {
        "execution": {
          "iopub.status.busy": "2022-01-04T15:55:55.842617Z",
          "iopub.execute_input": "2022-01-04T15:55:55.842916Z",
          "iopub.status.idle": "2022-01-04T15:55:55.875198Z",
          "shell.execute_reply.started": "2022-01-04T15:55:55.842878Z",
          "shell.execute_reply": "2022-01-04T15:55:55.874146Z"
        },
        "trusted": true,
        "id": "E9q5GMqOFi2c"
      },
      "execution_count": null,
      "outputs": []
    },
    {
      "cell_type": "code",
      "source": [
        "classes = [\n",
        "        '0', \n",
        "        '1', \n",
        "        '2', \n",
        "        '3', \n",
        "        '4']"
      ],
      "metadata": {
        "execution": {
          "iopub.status.busy": "2022-01-04T15:55:55.876233Z",
          "iopub.execute_input": "2022-01-04T15:55:55.876627Z",
          "iopub.status.idle": "2022-01-04T15:55:55.88742Z",
          "shell.execute_reply.started": "2022-01-04T15:55:55.876577Z",
          "shell.execute_reply": "2022-01-04T15:55:55.886627Z"
        },
        "trusted": true,
        "id": "JlTqxyRQFi2c"
      },
      "execution_count": null,
      "outputs": []
    },
    {
      "cell_type": "code",
      "source": [
        "from sklearn.metrics import multilabel_confusion_matrix\n",
        "\n",
        "\n",
        "def plot_confusion_matrix(\n",
        "    y_test, \n",
        "    y_pred_proba, \n",
        "    label_names=classes\n",
        ")-> None:\n",
        "    \"\"\"\n",
        "    \"\"\"\n",
        "    y_pred = y_pred_proba\n",
        "    c_matrices = multilabel_confusion_matrix(y_test, y_pred)\n",
        "    \n",
        "    cmap = plt.get_cmap('Blues')\n",
        "    fig, axes = plt.subplots(nrows=2, ncols=3, figsize=(15, 8))\n",
        "\n",
        "    for cm, label, ax in zip(c_matrices, label_names, axes.flatten()):\n",
        "        sns.heatmap(cm, annot=True, fmt='g', ax=ax, cmap=cmap);\n",
        "\n",
        "        ax.set_xlabel('Predicted labels');\n",
        "        ax.set_ylabel('True labels'); \n",
        "        ax.set_title(f'{label}');\n",
        "\n",
        "    plt.tight_layout()    \n",
        "    plt.show()"
      ],
      "metadata": {
        "execution": {
          "iopub.status.busy": "2022-01-04T15:55:55.889887Z",
          "iopub.execute_input": "2022-01-04T15:55:55.891738Z",
          "iopub.status.idle": "2022-01-04T15:55:55.903385Z",
          "shell.execute_reply.started": "2022-01-04T15:55:55.89169Z",
          "shell.execute_reply": "2022-01-04T15:55:55.902342Z"
        },
        "trusted": true,
        "id": "Qvbk81HeFi2c"
      },
      "execution_count": null,
      "outputs": []
    },
    {
      "cell_type": "code",
      "source": [
        "# model = torch.load('../input/inception/model_inception')\n",
        "# y_true, y_pred_proba = predict(model, valid_loader)"
      ],
      "metadata": {
        "execution": {
          "iopub.status.busy": "2022-01-04T15:55:55.904411Z",
          "iopub.execute_input": "2022-01-04T15:55:55.9051Z",
          "iopub.status.idle": "2022-01-04T15:55:55.91435Z",
          "shell.execute_reply.started": "2022-01-04T15:55:55.904998Z",
          "shell.execute_reply": "2022-01-04T15:55:55.91323Z"
        },
        "trusted": true,
        "id": "8wuUg6fjFi2c"
      },
      "execution_count": null,
      "outputs": []
    },
    {
      "cell_type": "code",
      "source": [
        "import torch.nn.functional as F\n",
        "\n",
        "class MyEnsemble(nn.Module):\n",
        "    def __init__(self, models):\n",
        "        super(MyEnsemble, self).__init__()\n",
        "        self.models = []\n",
        "        for model in models:\n",
        "            self.models.append(model)\n",
        "        self.Sigmoid = nn.Sigmoid()\n",
        "        \n",
        "    def forward(self, x):\n",
        "        allX = []\n",
        "        for model in self.models:\n",
        "            allX.append(self.Sigmoid(model(x.clone())))\n",
        "        x = sum(allX)/len(allX)\n",
        "        return x"
      ],
      "metadata": {
        "execution": {
          "iopub.status.busy": "2022-01-04T15:55:55.915472Z",
          "iopub.execute_input": "2022-01-04T15:55:55.91592Z",
          "iopub.status.idle": "2022-01-04T15:55:55.92486Z",
          "shell.execute_reply.started": "2022-01-04T15:55:55.915882Z",
          "shell.execute_reply": "2022-01-04T15:55:55.924096Z"
        },
        "trusted": true,
        "id": "_NjXbwViFi2c"
      },
      "execution_count": null,
      "outputs": []
    },
    {
      "cell_type": "code",
      "source": [
        "model_inception = torch.load('../input/inception/model_inception')\n",
        "model_resnet50 = torch.load('../input/resnet/model_resnet50')\n",
        "model_vgg16 = torch.load('../input/vgg16/model_vgg16')"
      ],
      "metadata": {
        "execution": {
          "iopub.status.busy": "2022-01-04T15:55:55.926351Z",
          "iopub.execute_input": "2022-01-04T15:55:55.926806Z",
          "iopub.status.idle": "2022-01-04T15:55:56.667321Z",
          "shell.execute_reply.started": "2022-01-04T15:55:55.92677Z",
          "shell.execute_reply": "2022-01-04T15:55:56.666592Z"
        },
        "trusted": true,
        "id": "7aAdwXacFi2d"
      },
      "execution_count": null,
      "outputs": []
    },
    {
      "cell_type": "code",
      "source": [
        "model = MyEnsemble([model_resnet50, model_inception, model_vgg16])\n",
        "model = model.cuda()"
      ],
      "metadata": {
        "execution": {
          "iopub.status.busy": "2022-01-04T15:55:56.668701Z",
          "iopub.execute_input": "2022-01-04T15:55:56.668947Z",
          "iopub.status.idle": "2022-01-04T15:55:56.677393Z",
          "shell.execute_reply.started": "2022-01-04T15:55:56.668911Z",
          "shell.execute_reply": "2022-01-04T15:55:56.676735Z"
        },
        "trusted": true,
        "id": "6hVtSud1Fi2d"
      },
      "execution_count": null,
      "outputs": []
    },
    {
      "cell_type": "code",
      "source": [
        "torch.save(model, \"./ensemble\")"
      ],
      "metadata": {
        "execution": {
          "iopub.status.busy": "2022-01-04T15:55:56.679094Z",
          "iopub.execute_input": "2022-01-04T15:55:56.679687Z",
          "iopub.status.idle": "2022-01-04T15:55:58.904131Z",
          "shell.execute_reply.started": "2022-01-04T15:55:56.67965Z",
          "shell.execute_reply": "2022-01-04T15:55:58.903187Z"
        },
        "trusted": true,
        "id": "5YkguAgbFi2d"
      },
      "execution_count": null,
      "outputs": []
    },
    {
      "cell_type": "code",
      "source": [
        "y_true, y_pred_proba = predict(model, valid_loader)"
      ],
      "metadata": {
        "execution": {
          "iopub.status.busy": "2022-01-04T15:55:58.905665Z",
          "iopub.execute_input": "2022-01-04T15:55:58.906106Z",
          "iopub.status.idle": "2022-01-04T15:59:07.342447Z",
          "shell.execute_reply.started": "2022-01-04T15:55:58.906051Z",
          "shell.execute_reply": "2022-01-04T15:59:07.340019Z"
        },
        "trusted": true,
        "id": "gNYAroxkFi2d"
      },
      "execution_count": null,
      "outputs": []
    },
    {
      "cell_type": "code",
      "source": [
        "plot_confusion_matrix(y_true, y_pred_proba)"
      ],
      "metadata": {
        "execution": {
          "iopub.status.busy": "2022-01-04T15:59:07.34402Z",
          "iopub.execute_input": "2022-01-04T15:59:07.344562Z",
          "iopub.status.idle": "2022-01-04T15:59:09.027082Z",
          "shell.execute_reply.started": "2022-01-04T15:59:07.344519Z",
          "shell.execute_reply": "2022-01-04T15:59:09.026359Z"
        },
        "trusted": true,
        "id": "ccF-4kP_Fi2d"
      },
      "execution_count": null,
      "outputs": []
    },
    {
      "cell_type": "code",
      "source": [
        "from sklearn.metrics import confusion_matrix\n",
        "\n",
        "def get_conf_mat(model, loader, num_classes):\n",
        "    nb_classes = num_classes\n",
        "    # Initialize the prediction and label lists(tensors)\n",
        "    predlist=torch.zeros(0,dtype=torch.long, device='cpu')\n",
        "    lbllist=torch.zeros(0,dtype=torch.long, device='cpu')\n",
        "\n",
        "    with torch.no_grad():\n",
        "        for i, (inputs, classes, _) in enumerate(loader):\n",
        "            inputs = inputs.to(device)\n",
        "            classes = classes.to(device)\n",
        "            outputs = model(inputs)\n",
        "            \n",
        "            \n",
        "            _, preds = torch.max(outputs, 1)\n",
        "            _, classes = torch.max(classes, 1)\n",
        "            # Append batch prediction results\n",
        "\n",
        "            predlist=torch.cat([predlist,preds.view(-1).cpu()])\n",
        "            lbllist=torch.cat([lbllist,classes.view(-1).cpu()])\n",
        "\n",
        "    # Confusion matrix\n",
        "    return confusion_matrix(lbllist.numpy(), predlist.numpy()), lbllist.numpy(), predlist.numpy()"
      ],
      "metadata": {
        "execution": {
          "iopub.status.busy": "2022-01-04T15:59:09.028198Z",
          "iopub.execute_input": "2022-01-04T15:59:09.028572Z",
          "iopub.status.idle": "2022-01-04T15:59:09.037978Z",
          "shell.execute_reply.started": "2022-01-04T15:59:09.028535Z",
          "shell.execute_reply": "2022-01-04T15:59:09.037161Z"
        },
        "trusted": true,
        "id": "PlQUw3KHFi2d"
      },
      "execution_count": null,
      "outputs": []
    },
    {
      "cell_type": "code",
      "source": [
        "def plot_confusion_matrix(cm, classes,\n",
        "                          normalize=False,\n",
        "                          title='Confusion matrix',\n",
        "                          cmap=plt.cm.Blues):\n",
        "    \"\"\"\n",
        "\n",
        "    This function prints and plots the confusion matrix.\n",
        "    Normalization can be applied by setting `normalize=True`.\n",
        "\n",
        "    \"\"\"\n",
        "    plt.imshow(cm, interpolation='nearest', cmap=cmap)\n",
        "    plt.title(title)\n",
        "    plt.colorbar()\n",
        "    tick_marks = np.arange(len(classes))\n",
        "    plt.xticks(tick_marks, classes, rotation=45)\n",
        "    plt.yticks(tick_marks, classes)\n",
        "\n",
        "    if normalize:\n",
        "        cm = cm.astype('float') / cm.sum(axis=1)[:, np.newaxis]\n",
        "        print(\"Normalized confusion matrix\")\n",
        "    else:\n",
        "        print('Confusion matrix, without normalization')\n",
        "\n",
        "    thresh = cm.max() / 2.\n",
        "    for i, j in itertools.product(range(cm.shape[0]), range(cm.shape[1])):\n",
        "        plt.text(j, i, cm[i, j],\n",
        "                 horizontalalignment=\"center\",\n",
        "                 color=\"white\" if cm[i, j] > thresh else \"black\")\n",
        "\n",
        "    plt.tight_layout()\n",
        "    plt.ylabel('True label')\n",
        "    plt.xlabel('Predicted label')\n"
      ],
      "metadata": {
        "execution": {
          "iopub.status.busy": "2022-01-04T15:59:09.039467Z",
          "iopub.execute_input": "2022-01-04T15:59:09.0399Z",
          "iopub.status.idle": "2022-01-04T15:59:09.05155Z",
          "shell.execute_reply.started": "2022-01-04T15:59:09.03986Z",
          "shell.execute_reply": "2022-01-04T15:59:09.050823Z"
        },
        "trusted": true,
        "id": "iBxtRmECFi2e"
      },
      "execution_count": null,
      "outputs": []
    },
    {
      "cell_type": "code",
      "source": [
        "plt.figure(figsize=(20,15), dpi=50)\n",
        "plt.rcParams.update({'font.size': 18})\n",
        "conf_mat, y_true, y_pred = get_conf_mat(model, valid_loader, len(classes))\n",
        "plot_confusion_matrix(conf_mat, classes=classes, title='Confusion matrix')\n",
        "plt.show()"
      ],
      "metadata": {
        "execution": {
          "iopub.status.busy": "2022-01-04T15:59:09.053071Z",
          "iopub.execute_input": "2022-01-04T15:59:09.053379Z",
          "iopub.status.idle": "2022-01-04T16:02:01.423048Z",
          "shell.execute_reply.started": "2022-01-04T15:59:09.053341Z",
          "shell.execute_reply": "2022-01-04T16:02:01.422293Z"
        },
        "trusted": true,
        "id": "JedEnXOAFi2e"
      },
      "execution_count": null,
      "outputs": []
    },
    {
      "cell_type": "code",
      "source": [
        "from sklearn.metrics import classification_report\n",
        "\n",
        "print(classification_report(y_true, y_pred))"
      ],
      "metadata": {
        "execution": {
          "iopub.status.busy": "2022-01-04T16:02:01.424824Z",
          "iopub.execute_input": "2022-01-04T16:02:01.425254Z",
          "iopub.status.idle": "2022-01-04T16:02:01.4418Z",
          "shell.execute_reply.started": "2022-01-04T16:02:01.425212Z",
          "shell.execute_reply": "2022-01-04T16:02:01.441149Z"
        },
        "trusted": true,
        "id": "t5nW0wXHFi2e"
      },
      "execution_count": null,
      "outputs": []
    },
    {
      "cell_type": "code",
      "source": [
        ""
      ],
      "metadata": {
        "id": "jB1skJoqFi2e"
      },
      "execution_count": null,
      "outputs": []
    }
  ]
}